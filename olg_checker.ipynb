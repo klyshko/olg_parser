{
 "cells": [
  {
   "cell_type": "code",
   "execution_count": 236,
   "metadata": {},
   "outputs": [],
   "source": [
    "import numpy as np\n",
    "import matplotlib.pyplot as plt\n",
    "from bs4 import BeautifulSoup\n",
    "import urllib3\n",
    "urllib3.disable_warnings(urllib3.exceptions.InsecureRequestWarning)"
   ]
  },
  {
   "cell_type": "code",
   "execution_count": 260,
   "metadata": {},
   "outputs": [],
   "source": [
    "hardcode = ['7/7', '7/7', '6/7 + Bonus', '6/7', '5/7', '5/7', '4/7', '4/7', '3/7 + Bonus']\n",
    "size = [(7, False), (7, True), (6, True), (6, False), (5, False), (5, True), (4, False), (4, True), (3, True)]\n",
    "intersections = dict(zip(size, hardcode))\n",
    "\n",
    "filename = 'numbers.txt'\n",
    "\n",
    "\n",
    "def get_url(year, month, day):\n",
    "    url_template = 'https://lottery.olg.ca/en-ca/winning-numbers/lotto-max/winning-numbers?'\n",
    "    year = str(year)\n",
    "    startDate = year + '-' + '{:02d}'.format(month) + '-' + '{:02d}'.format(day - 1)\n",
    "    endDate = year + '-' + '{:02d}'.format(month) + '-' + '{:02d}'.format(day + 1)\n",
    "    url = url_template + 'startDate=' + startDate + '&' + 'endDate=' + endDate\n",
    "    return url\n",
    "\n",
    "def get_data(url):\n",
    "    data = dict()\n",
    "    http = urllib3.PoolManager()\n",
    "    r = http.request('GET', url)\n",
    "    soup = BeautifulSoup(r.data, 'html.parser')\n",
    "    \n",
    "    # getting numbers\n",
    "    nums = soup.findAll('span', attrs={'class': 'winning-numbers-number'})\n",
    "    win_numbers = []\n",
    "    for number in nums:\n",
    "        win_numbers.append(number.text)\n",
    "    \n",
    "    # getting money wins from the table\n",
    "    table = soup.find_all('tbody')[0]\n",
    "    values = dict()\n",
    "    for row in table.find_all('tr'):\n",
    "        value = float(row.find('td', {'class':'chart-prize-col'}).text[1:].replace(',',''))\n",
    "        winner = row.find('td', {'class':'chart-winners-col'}).text\n",
    "        values[winner] = value\n",
    "    \n",
    "    # getting a date\n",
    "    current_date = soup.find('p', {'class':'large-date'}).text\n",
    "    \n",
    "    ### saving\n",
    "    data['numbers'] = [int(a) for a in win_numbers[:6]]\n",
    "    data['bonus'] = int(win_numbers[7])\n",
    "    data['date'] = current_date\n",
    "    data['money'] = values\n",
    "    return data\n",
    "\n",
    "def total_sum(database, info):\n",
    "    total = 0\n",
    "    free_wins = 0\n",
    "    for numbers in database:\n",
    "        inters = set(numbers).intersection(set(info['numbers']))\n",
    "        size = len(inters)\n",
    "        bonus = info['bonus'] in set(numbers)\n",
    "        win = 0.0\n",
    "        free_win = 0\n",
    "        if (size, bonus) == (3, False):\n",
    "            free_win = 1\n",
    "            free_wins += 1\n",
    "        if (size, bonus) in intersections:\n",
    "            key = intersections[(size, bonus)]\n",
    "            win = info['money'][key]\n",
    "        total += win\n",
    "        print('You win ${} and {} free win for a ticket with numbers {}'.format(win, free_win, numbers))\n",
    "    print('\\nYour total win on {} is ${} and {} free wins'.format(info['date'], total, free_wins))"
   ]
  },
  {
   "cell_type": "code",
   "execution_count": 261,
   "metadata": {},
   "outputs": [
    {
     "name": "stdout",
     "output_type": "stream",
     "text": [
      "Your tickets are: \n",
      "[[11 43 34 35 23 21 19]\n",
      " [ 1 24  4  3  7 31 17]\n",
      " [34  1  2  3  4  5  6]\n",
      " [ 2 20 21 30 31 24 34]\n",
      " [ 9 17 21 23 36 41 44]]\n",
      "\n",
      "\n",
      "\n",
      "On Fri, Apr 26 \n",
      "winning numbers are: [9, 17, 21, 23, 36, 41] - 12\n",
      "Table of winnings:\n",
      "            7/7 ----- $35503620.4\n",
      "    6/7 + Bonus ----- $117240.2\n",
      "            6/7 ----- $6234.2\n",
      "            5/7 ----- $107.8\n",
      "            4/7 ----- $20.0\n",
      "    3/7 + Bonus ----- $20.0\n",
      "\n",
      "You win $0.0 and 0 free win for a ticket with numbers [11 43 34 35 23 21 19]\n",
      "You win $0.0 and 0 free win for a ticket with numbers [ 1 24  4  3  7 31 17]\n",
      "You win $0.0 and 0 free win for a ticket with numbers [34  1  2  3  4  5  6]\n",
      "You win $0.0 and 0 free win for a ticket with numbers [ 2 20 21 30 31 24 34]\n",
      "You win $6234.2 and 0 free win for a ticket with numbers [ 9 17 21 23 36 41 44]\n",
      "\n",
      "Your total win on Fri, Apr 26 is $6234.2 and 0 free wins\n"
     ]
    }
   ],
   "source": [
    "# Put yor date here:\n",
    "year = 2019\n",
    "month = 4\n",
    "day = 26\n",
    "\n",
    "info = get_data(get_url(year, month, day))\n",
    "\n",
    "print('Your tickets are: ')\n",
    "database = np.loadtxt(filename, dtype=np.int64)\n",
    "print(database)\n",
    "print('\\n\\n')\n",
    "print('On {} \\nwinning numbers are: {} - {}'.format(info['date'], info['numbers'], info['bonus']))\n",
    "print('Table of winnings:')\n",
    "for key in info['money']:\n",
    "    print('{:>15} ----- ${}'.format(key, info['money'][key]))\n",
    "\n",
    "print()\n",
    "total_sum(database, info)"
   ]
  },
  {
   "cell_type": "code",
   "execution_count": null,
   "metadata": {},
   "outputs": [],
   "source": []
  },
  {
   "cell_type": "code",
   "execution_count": null,
   "metadata": {},
   "outputs": [],
   "source": []
  },
  {
   "cell_type": "code",
   "execution_count": null,
   "metadata": {},
   "outputs": [],
   "source": [
    "\n"
   ]
  },
  {
   "cell_type": "code",
   "execution_count": null,
   "metadata": {},
   "outputs": [],
   "source": []
  },
  {
   "cell_type": "code",
   "execution_count": null,
   "metadata": {},
   "outputs": [],
   "source": []
  },
  {
   "cell_type": "code",
   "execution_count": null,
   "metadata": {},
   "outputs": [],
   "source": []
  },
  {
   "cell_type": "code",
   "execution_count": null,
   "metadata": {},
   "outputs": [],
   "source": []
  },
  {
   "cell_type": "code",
   "execution_count": null,
   "metadata": {},
   "outputs": [],
   "source": []
  }
 ],
 "metadata": {
  "kernelspec": {
   "display_name": "Python 3",
   "language": "python",
   "name": "python3"
  },
  "language_info": {
   "codemirror_mode": {
    "name": "ipython",
    "version": 3
   },
   "file_extension": ".py",
   "mimetype": "text/x-python",
   "name": "python",
   "nbconvert_exporter": "python",
   "pygments_lexer": "ipython3",
   "version": "3.6.8"
  }
 },
 "nbformat": 4,
 "nbformat_minor": 2
}
