{
 "cells": [
  {
   "cell_type": "code",
   "execution_count": 8,
   "metadata": {},
   "outputs": [],
   "source": [
    "import numpy as np\n",
    "import matplotlib.pyplot as plt\n",
    "from bs4 import BeautifulSoup\n",
    "import urllib3\n",
    "urllib3.disable_warnings(urllib3.exceptions.InsecureRequestWarning)"
   ]
  },
  {
   "cell_type": "code",
   "execution_count": 9,
   "metadata": {},
   "outputs": [],
   "source": [
    "def get_url(year, month, day):\n",
    "    url_template = 'https://lottery.olg.ca/en-ca/winning-numbers/lotto-max/winning-numbers?'\n",
    "    year = str(year)\n",
    "    startDate = year + '-' + '{:02d}'.format(month) + '-' + '{:02d}'.format(day - 1)\n",
    "    endDate = year + '-' + '{:02d}'.format(month) + '-' + '{:02d}'.format(day + 1)\n",
    "    url = url_template + 'startDate=' + startDate + '&' + 'endDate=' + endDate\n",
    "    return url"
   ]
  },
  {
   "cell_type": "code",
   "execution_count": 11,
   "metadata": {},
   "outputs": [],
   "source": [
    "def get_data(url):\n",
    "    data = dict()\n",
    "    http = urllib3.PoolManager()\n",
    "    r = http.request('GET', url)\n",
    "    # parse the html using beautiful soup and store in variable `soup`\n",
    "    soup = BeautifulSoup(r.data, 'html.parser')\n",
    "    \n",
    "    nums = soup.findAll('span', attrs={'class': 'winning-numbers-number'})\n",
    "    win_numbers = []\n",
    "    for number in nums:\n",
    "        win_numbers.append(number.text)\n",
    "        \n",
    "    current_date = soup.find('p', {'class':'large-date'}).text\n",
    "    data['numbers'] = win_numbers\n",
    "    data['date'] = current_date\n",
    "    return data"
   ]
  },
  {
   "cell_type": "code",
   "execution_count": null,
   "metadata": {},
   "outputs": [],
   "source": [
    "# Every friday\n",
    "\n",
    "year = 2019\n",
    "month = 4\n",
    "day = 12"
   ]
  },
  {
   "cell_type": "code",
   "execution_count": 12,
   "metadata": {},
   "outputs": [
    {
     "name": "stdout",
     "output_type": "stream",
     "text": [
      "Winning numbers are: ['02', '20', '21', '30', '31', '39', '45', '18'] on Fri, Apr 12\n"
     ]
    }
   ],
   "source": [
    "data = get_data(get_url(year, month, day))\n",
    "print('Winning numbers are: {} on {}'.format(data['numbers'], data['date']))"
   ]
  },
  {
   "cell_type": "code",
   "execution_count": 32,
   "metadata": {},
   "outputs": [],
   "source": []
  },
  {
   "cell_type": "code",
   "execution_count": 30,
   "metadata": {},
   "outputs": [],
   "source": []
  },
  {
   "cell_type": "code",
   "execution_count": null,
   "metadata": {},
   "outputs": [],
   "source": [
    "numbers = [1, 2, 3, 4, 5, 6, 7, 8]"
   ]
  },
  {
   "cell_type": "code",
   "execution_count": 2,
   "metadata": {},
   "outputs": [],
   "source": [
    "database = [[1, 2, 3, 4, 5, 6, 7, 8], [1, 2, 3, 4, 5, 6, 7, 8], [1, 2, 3, 4, 5, 6, 7, 8], [1, 2, 3, 4, 5, 6, 7, 8]]"
   ]
  },
  {
   "cell_type": "code",
   "execution_count": null,
   "metadata": {},
   "outputs": [],
   "source": []
  }
 ],
 "metadata": {
  "kernelspec": {
   "display_name": "Python 3",
   "language": "python",
   "name": "python3"
  },
  "language_info": {
   "codemirror_mode": {
    "name": "ipython",
    "version": 3
   },
   "file_extension": ".py",
   "mimetype": "text/x-python",
   "name": "python",
   "nbconvert_exporter": "python",
   "pygments_lexer": "ipython3",
   "version": "3.6.8"
  }
 },
 "nbformat": 4,
 "nbformat_minor": 2
}
